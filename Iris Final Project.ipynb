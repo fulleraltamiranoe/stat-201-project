{
 "cells": [
  {
   "cell_type": "markdown",
   "id": "c51d594b-17f6-4307-bed6-bd277459cbda",
   "metadata": {
    "tags": []
   },
   "source": [
    "<h1>Use of Samples of Different Classes of Iris Plants for Their Population Inference</h1>"
   ]
  },
  {
   "cell_type": "markdown",
   "id": "f6e91ab7-3e07-428e-93bd-3c572d81c6b0",
   "metadata": {},
   "source": [
    "<h2>Introduction</h2>\n",
    "\n",
    "Variation within species can be a result of a myriad of reasons including genetic mutations, recombination, and immigration of genes. Oftentimes these variations are noticeably significant (like stark differences in the haircolor of fraternal twins), but sometimes they are more subtle (lactose intolerance). Diving into this question a little further, this group wishes to explore the variation within different classes of the same flower species, namely the Iris flower. The chosen dataset contains 50 samples of three species of Iris (Iris Setosa, Iris Virginica and Iris Versicolor) [1]. We have information about the sepal length, sepal width, petal length, and petal width (in cm) for all three classes. For this project we decided to focus on the sepal lengths and from the information given in the dataset, we began by gathering the following information (See Table 1) <br>\n",
    "\n",
    "Differences in the mean sepal lengths of classes of flowers from the same species piqued our interest. Therefore, we decided to explore whether these differences are statistically significant or just due to sampling variation.<br>\n",
    "\n",
    "Precisely, the question we shall aim to answer is: <b>Do Iris Setosa, Iris Virginica, and Iris Versicolor have the same mean sepal length?</b><br>\n",
    "\n",
    "Expanding on the above:<br>\n",
    "\n",
    "Suppose the following:<br>\n",
    "\n",
    "S1 = true mean sepal length of Iris Setosa<br>\n",
    "S2 = true mean sepal length of Iris Virginica <br>\n",
    "S3 = true mean sepal length of Iris Versicolor<br>\n",
    "\n",
    "We want to check if the null hypothesis of S1 = S2 = S3 holds true.<br>\n",
    "\n",
    "As indicated above, the location parameter we have chosen to answer our question is the mean. This is because initial exploratory analysis of the dataset revealed that the sepal lengths for all three classes of Iris species were normally distributed. Additionally, the sample size of 50 is large enough for the Central Limit Theorem to apply, thereby making it reasonable to assume that sample means shall be normally distributed. For the same reason, we have chosen standard deviation to be our scale parameter. We shall use information obtained during exploratory analysis (sample mean and sample standard deviation) to test our hypothesis by performing a one way ANOVA test. <br>\n",
    " \n",
    "Following are the assumptions made while conducting a one-way ANOVA test:<br>\n",
    "\n",
    "1. The samples should be taken from normally distributed populations\n",
    "2. Each sample has been drawn independently of other samples\n",
    "3. Variance of data in the different groups should be the same\n",
    "4. The dependent variable (here sepal length) should be continuous. \n",
    "\n",
    "Given the features of our dataset and exploratory data analysis, all these assumptions are reasonable to make. Therefore, it is appropriate to conduct a one-way ANOVA test to answer the proposed question.\n",
    "\n"
   ]
  },
  {
   "cell_type": "markdown",
   "id": "87b1c26e-1400-46c9-9b0d-3cf4c3661e98",
   "metadata": {},
   "source": [
    "<h2>\n",
    "Methods\n",
    "</h2>\n",
    "\n",
    "In order to test our inferential question, we want to formulate a null hypothesis and an alternate hypothesis. Our null hypothesis states that the true mean sepal length of Iris Setosa (S1) is equal to that of Iris Versicolor (S2) which is also equal to that of Iris Virginica (S2). This can be represented with the following:<br>\n",
    "\n",
    "H0 : S1 = S2 = S3<br>\n",
    "\n",
    "To test if the null hypothesis is true, we would look at the test statistics for ANOVA testing, namely the F-test statistic. This can be done by using the aov function in R, where the f-test statistic and the p-value will be presented. By analyzing the p-value, we would then be able to make a conclusion on whether or not we have enough evidence to reject the null hypothesis. If statistics show that the null hypothesis should be rejected, we would be able to infer that at least one group has a different true mean sepal length than the other two. To further analyze, we may use t-test to compare between each group. In that case, we would have three null hypotheses to test:<br>\n",
    "\n",
    "H0 : S1 = S2<br>\n",
    "H0 : S2 = S3<br>\n",
    "H0 : S3 = S4<br>\n",
    "\n",
    "From testing each of these hypotheses, we can decide whether the true mean sepal length of three Iris species are different from each other. \n",
    "\n",
    " \n"
   ]
  },
  {
   "cell_type": "markdown",
   "id": "bab20433-8007-411a-862d-747a651083b9",
   "metadata": {},
   "source": [
    "<h2>\n",
    "Exploratory Data Analysis \n",
    "</h2>"
   ]
  },
  {
   "cell_type": "code",
   "execution_count": 1,
   "id": "c528e6e2-a4dd-4435-a0de-54e9e4800479",
   "metadata": {},
   "outputs": [
    {
     "name": "stderr",
     "output_type": "stream",
     "text": [
      "Warning message in system(\"timedatectl\", intern = TRUE):\n",
      "“running command 'timedatectl' had status 1”\n",
      "── \u001b[1mAttaching packages\u001b[22m ─────────────────────────────────────── tidyverse 1.3.1 ──\n",
      "\n",
      "\u001b[32m✔\u001b[39m \u001b[34mggplot2\u001b[39m 3.3.5     \u001b[32m✔\u001b[39m \u001b[34mpurrr  \u001b[39m 0.3.4\n",
      "\u001b[32m✔\u001b[39m \u001b[34mtibble \u001b[39m 3.1.6     \u001b[32m✔\u001b[39m \u001b[34mdplyr  \u001b[39m 1.0.7\n",
      "\u001b[32m✔\u001b[39m \u001b[34mtidyr  \u001b[39m 1.2.0     \u001b[32m✔\u001b[39m \u001b[34mstringr\u001b[39m 1.4.0\n",
      "\u001b[32m✔\u001b[39m \u001b[34mreadr  \u001b[39m 2.1.2     \u001b[32m✔\u001b[39m \u001b[34mforcats\u001b[39m 0.5.1\n",
      "\n",
      "── \u001b[1mConflicts\u001b[22m ────────────────────────────────────────── tidyverse_conflicts() ──\n",
      "\u001b[31m✖\u001b[39m \u001b[34mdplyr\u001b[39m::\u001b[32mfilter()\u001b[39m masks \u001b[34mstats\u001b[39m::filter()\n",
      "\u001b[31m✖\u001b[39m \u001b[34mdplyr\u001b[39m::\u001b[32mlag()\u001b[39m    masks \u001b[34mstats\u001b[39m::lag()\n",
      "\n",
      "\n",
      "Attaching package: ‘scales’\n",
      "\n",
      "\n",
      "The following object is masked from ‘package:purrr’:\n",
      "\n",
      "    discard\n",
      "\n",
      "\n",
      "The following object is masked from ‘package:readr’:\n",
      "\n",
      "    col_factor\n",
      "\n",
      "\n"
     ]
    }
   ],
   "source": [
    "# Load libraries\n",
    "library(tidyverse)\n",
    "library(repr)\n",
    "library(scales)\n",
    "library(broom)\n",
    "library(infer)"
   ]
  },
  {
   "cell_type": "code",
   "execution_count": 2,
   "id": "e70e9d7f-a46f-4c47-ae59-2fa781d6e17e",
   "metadata": {},
   "outputs": [
    {
     "name": "stderr",
     "output_type": "stream",
     "text": [
      "\u001b[1mRows: \u001b[22m\u001b[34m150\u001b[39m \u001b[1mColumns: \u001b[22m\u001b[34m5\u001b[39m\n",
      "\n",
      "\u001b[36m──\u001b[39m \u001b[1mColumn specification\u001b[22m \u001b[36m────────────────────────────────────────────────────────\u001b[39m\n",
      "\u001b[1mDelimiter:\u001b[22m \",\"\n",
      "\u001b[31mchr\u001b[39m (1): class\n",
      "\u001b[32mdbl\u001b[39m (4): sepal_length, sepal_width, petal_length, petal_width\n",
      "\n",
      "\n",
      "\u001b[36mℹ\u001b[39m Use `spec()` to retrieve the full column specification for this data.\n",
      "\u001b[36mℹ\u001b[39m Specify the column types or set `show_col_types = FALSE` to quiet this message.\n",
      "\n"
     ]
    }
   ],
   "source": [
    "# Loading the Dataset and treat class as a factor\n",
    "url = \"https://raw.githubusercontent.com/fulleraltamiranoe/stat-201-project/main/iris.csv\"\n",
    "iris_data <- read_csv(url) %>% \n",
    "    mutate(class = as_factor(class)) \n",
    "\n",
    "# statistics of interest\n",
    "iris_param <- iris_data %>%\n",
    "    group_by(class) %>%\n",
    "    summarize(mean_sepal = mean(sepal_length), sd_sepal = sd(sepal_length), var_sepal = var(sepal_length))\n",
    "\n",
    "# visualization of sample means\n",
    "options(repr.plot.width = 10, repr.plot.height = 8)\n",
    "box <- iris_data %>%\n",
    "    ggplot(aes(x=class, y=sepal_length)) +\n",
    "    geom_boxplot(aes(class, sepal_length, fill = class))+\n",
    "    geom_jitter()+\n",
    "    labs(x = 'Class', y = 'Sepal Length [cm]')+\n",
    "    ggtitle('Figure I: Boxplot of the Sepal Length of three different classes of Iris (n=50 for each)')+\n",
    "    theme(text = element_text(size = 12), plot.title = element_text(hjust = 0.5))\n",
    "\n",
    "# ANOVA to see if they are all the same\n",
    "anova <- aov(sepal_length~class, data=iris_data) %>% \n",
    "    tidy()\n",
    "\n",
    "f_stat = anova$statistic[1]\n",
    "\n",
    "p_val = anova$p.value[1]\n",
    "\n",
    "anova_results <- tibble(f_stat, p_val)\n",
    "\n",
    "# conclusion so far: at least one of them is different\n",
    "\n",
    "# next question: which one is different?\n",
    "# test 1: setosa vs versicolor\n",
    "\n",
    "setosa_mean = iris_param$mean_sepal[1]\n",
    "setosa_sd = iris_param$sd_sepal[1]\n",
    "versicolor_mean = iris_param$mean_sepal[2]\n",
    "versicolor_sd = iris_param$sd_sepal[2]\n",
    "virginica_mean = iris_param$mean_sepal[3]\n",
    "virginica_sd = iris_param$sd_sepal[3]\n",
    "\n",
    "# test 1: setosa vs versicolor\n",
    "t_1 = (setosa_mean-versicolor_mean)/sqrt((((setosa_sd)^2)/50)+(((versicolor_sd)^2)/50))\n",
    "p_val1 = pt(t_1, df=49)*2 \n",
    "# conclusion: setosa sepal != versicolor sepal at every confidence level we care about\n",
    "\n",
    "# test 2: setosa vs virginica\n",
    "t_2 = (setosa_mean-virginica_mean)/sqrt((((setosa_sd)^2)/50)+(((virginica_sd)^2)/50))\n",
    "p_val2 = pt(t_2, df=49)*2 \n",
    "# conclusion: setosa sepal != virginica sepal at every confidence level we care about\n",
    "\n",
    "# test 3: versicolor vs virginica\n",
    "t_3 = (versicolor_mean-virginica_mean)/sqrt((((versicolor_sd)^2)/50)+(((virginica_sd)^2)/50))\n",
    "p_val3 = pt(t_3, df=49) *2\n",
    "# conclusion: versicolor != verginica at any confidence level we care about\n",
    "\n",
    "summary_results <- tibble(t_1, p_val1, t_2, p_val2, t_3, p_val3)"
   ]
  },
  {
   "cell_type": "markdown",
   "id": "fb0c99ac-2500-4001-9525-988e85880a4c",
   "metadata": {},
   "source": [
    "<h4>Table 1: Average sepal length in cm, standard deviation and variance of a Sample of 50 each iris setosa, iris versicolor, and iris virginical plants</h4>"
   ]
  },
  {
   "cell_type": "code",
   "execution_count": 3,
   "id": "1583f429-0242-4f5e-ab8b-910ac44579ba",
   "metadata": {},
   "outputs": [
    {
     "data": {
      "text/html": [
       "<table class=\"dataframe\">\n",
       "<caption>A tibble: 3 × 4</caption>\n",
       "<thead>\n",
       "\t<tr><th scope=col>class</th><th scope=col>mean_sepal</th><th scope=col>sd_sepal</th><th scope=col>var_sepal</th></tr>\n",
       "\t<tr><th scope=col>&lt;fct&gt;</th><th scope=col>&lt;dbl&gt;</th><th scope=col>&lt;dbl&gt;</th><th scope=col>&lt;dbl&gt;</th></tr>\n",
       "</thead>\n",
       "<tbody>\n",
       "\t<tr><td>Iris-setosa    </td><td>5.006</td><td>0.3524897</td><td>0.1242490</td></tr>\n",
       "\t<tr><td>Iris-versicolor</td><td>5.936</td><td>0.5161711</td><td>0.2664327</td></tr>\n",
       "\t<tr><td>Iris-virginica </td><td>6.588</td><td>0.6358796</td><td>0.4043429</td></tr>\n",
       "</tbody>\n",
       "</table>\n"
      ],
      "text/latex": [
       "A tibble: 3 × 4\n",
       "\\begin{tabular}{llll}\n",
       " class & mean\\_sepal & sd\\_sepal & var\\_sepal\\\\\n",
       " <fct> & <dbl> & <dbl> & <dbl>\\\\\n",
       "\\hline\n",
       "\t Iris-setosa     & 5.006 & 0.3524897 & 0.1242490\\\\\n",
       "\t Iris-versicolor & 5.936 & 0.5161711 & 0.2664327\\\\\n",
       "\t Iris-virginica  & 6.588 & 0.6358796 & 0.4043429\\\\\n",
       "\\end{tabular}\n"
      ],
      "text/markdown": [
       "\n",
       "A tibble: 3 × 4\n",
       "\n",
       "| class &lt;fct&gt; | mean_sepal &lt;dbl&gt; | sd_sepal &lt;dbl&gt; | var_sepal &lt;dbl&gt; |\n",
       "|---|---|---|---|\n",
       "| Iris-setosa     | 5.006 | 0.3524897 | 0.1242490 |\n",
       "| Iris-versicolor | 5.936 | 0.5161711 | 0.2664327 |\n",
       "| Iris-virginica  | 6.588 | 0.6358796 | 0.4043429 |\n",
       "\n"
      ],
      "text/plain": [
       "  class           mean_sepal sd_sepal  var_sepal\n",
       "1 Iris-setosa     5.006      0.3524897 0.1242490\n",
       "2 Iris-versicolor 5.936      0.5161711 0.2664327\n",
       "3 Iris-virginica  6.588      0.6358796 0.4043429"
      ]
     },
     "metadata": {},
     "output_type": "display_data"
    }
   ],
   "source": [
    "iris_param"
   ]
  },
  {
   "cell_type": "code",
   "execution_count": 4,
   "id": "592d44e9-3037-421d-92f9-3e745565570c",
   "metadata": {},
   "outputs": [
    {
     "data": {
      "image/png": "[encoded data removed]",
      "text/plain": [
       "plot without title"
      ]
     },
     "metadata": {
      "image/png": {
       "height": 480,
       "width": 600
      }
     },
     "output_type": "display_data"
    }
   ],
   "source": [
    "box"
   ]
  },
  {
   "cell_type": "markdown",
   "id": "0f25fbf3-c96e-4dd4-83aa-467d0ff8b676",
   "metadata": {},
   "source": [
    "<h4>Table 2: ANOVA test results</h4>"
   ]
  },
  {
   "cell_type": "code",
   "execution_count": 5,
   "id": "a4a182a8-102a-4a9f-9dcc-a734e204d928",
   "metadata": {},
   "outputs": [
    {
     "data": {
      "text/html": [
       "<table class=\"dataframe\">\n",
       "<caption>A tibble: 1 × 2</caption>\n",
       "<thead>\n",
       "\t<tr><th scope=col>f_stat</th><th scope=col>p_val</th></tr>\n",
       "\t<tr><th scope=col>&lt;dbl&gt;</th><th scope=col>&lt;dbl&gt;</th></tr>\n",
       "</thead>\n",
       "<tbody>\n",
       "\t<tr><td>119.2645</td><td>1.669669e-31</td></tr>\n",
       "</tbody>\n",
       "</table>\n"
      ],
      "text/latex": [
       "A tibble: 1 × 2\n",
       "\\begin{tabular}{ll}\n",
       " f\\_stat & p\\_val\\\\\n",
       " <dbl> & <dbl>\\\\\n",
       "\\hline\n",
       "\t 119.2645 & 1.669669e-31\\\\\n",
       "\\end{tabular}\n"
      ],
      "text/markdown": [
       "\n",
       "A tibble: 1 × 2\n",
       "\n",
       "| f_stat &lt;dbl&gt; | p_val &lt;dbl&gt; |\n",
       "|---|---|\n",
       "| 119.2645 | 1.669669e-31 |\n",
       "\n"
      ],
      "text/plain": [
       "  f_stat   p_val       \n",
       "1 119.2645 1.669669e-31"
      ]
     },
     "metadata": {},
     "output_type": "display_data"
    }
   ],
   "source": [
    "anova_results"
   ]
  },
  {
   "cell_type": "markdown",
   "id": "027ee230-9a76-40fa-86d6-f8b9582d40b5",
   "metadata": {
    "tags": []
   },
   "source": [
    "<h4>Table 3: t-test results (test 1: I. setosa to I. versicolor, test 2: I. setosa to I. virginica, test 3: I. virginica to I. versicolor)</h4>"
   ]
  },
  {
   "cell_type": "code",
   "execution_count": 6,
   "id": "93ad5e87-1148-4c01-ae30-cb31b4ba03ab",
   "metadata": {},
   "outputs": [
    {
     "data": {
      "text/html": [
       "<table class=\"dataframe\">\n",
       "<caption>A tibble: 1 × 6</caption>\n",
       "<thead>\n",
       "\t<tr><th scope=col>t_1</th><th scope=col>p_val1</th><th scope=col>t_2</th><th scope=col>p_val2</th><th scope=col>t_3</th><th scope=col>p_val3</th></tr>\n",
       "\t<tr><th scope=col>&lt;dbl&gt;</th><th scope=col>&lt;dbl&gt;</th><th scope=col>&lt;dbl&gt;</th><th scope=col>&lt;dbl&gt;</th><th scope=col>&lt;dbl&gt;</th><th scope=col>&lt;dbl&gt;</th></tr>\n",
       "</thead>\n",
       "<tbody>\n",
       "\t<tr><td>-10.52099</td><td>3.63027e-14</td><td>-15.3862</td><td>2.149958e-20</td><td>-5.629165</td><td>8.675813e-07</td></tr>\n",
       "</tbody>\n",
       "</table>\n"
      ],
      "text/latex": [
       "A tibble: 1 × 6\n",
       "\\begin{tabular}{llllll}\n",
       " t\\_1 & p\\_val1 & t\\_2 & p\\_val2 & t\\_3 & p\\_val3\\\\\n",
       " <dbl> & <dbl> & <dbl> & <dbl> & <dbl> & <dbl>\\\\\n",
       "\\hline\n",
       "\t -10.52099 & 3.63027e-14 & -15.3862 & 2.149958e-20 & -5.629165 & 8.675813e-07\\\\\n",
       "\\end{tabular}\n"
      ],
      "text/markdown": [
       "\n",
       "A tibble: 1 × 6\n",
       "\n",
       "| t_1 &lt;dbl&gt; | p_val1 &lt;dbl&gt; | t_2 &lt;dbl&gt; | p_val2 &lt;dbl&gt; | t_3 &lt;dbl&gt; | p_val3 &lt;dbl&gt; |\n",
       "|---|---|---|---|---|---|\n",
       "| -10.52099 | 3.63027e-14 | -15.3862 | 2.149958e-20 | -5.629165 | 8.675813e-07 |\n",
       "\n"
      ],
      "text/plain": [
       "  t_1       p_val1      t_2      p_val2       t_3       p_val3      \n",
       "1 -10.52099 3.63027e-14 -15.3862 2.149958e-20 -5.629165 8.675813e-07"
      ]
     },
     "metadata": {},
     "output_type": "display_data"
    }
   ],
   "source": [
    "summary_results"
   ]
  },
  {
   "cell_type": "markdown",
   "id": "cc4bbddf-a7ee-4e01-af99-ee9a4e3edfc9",
   "metadata": {},
   "source": [
    "<h2>\n",
    "Results\n",
    "</h2>\n",
    "The null hypothesis for the ANOVA test states that the true mean sepal lengths from the three different subspecies of Iris are the same. The F-statistic under the null-model is 119.26 which gives a p value of 1.67e-31. A series of three 2-sample t-tests were performed to determine which pairs of plants are different. The null hypothesis for each of the t-tests is that the two species have the same true mean sepal length. The p values for the comparison of Iris Setosa and Iris Versicolor, Iris Setosa and Iris Virginica, and Iris Versicolor and Iris virginica, were 3.63e-14, 2.15e-14, and 8.68e-7, respectively.<br><br>\n",
    "\n",
    "\n",
    "Because the ANOVA f-statistic is well approximated by an F-distribution if our assumptions hold true, bootstrapping is not necessary. Since the comparison of sepal length is all we are interested in, ANOVA test is all that is needed to test whether or not they are significantly different, and the t-tests allow us to determine which combination of the classes is different. Both ANOVA and t-test approximate a F and t-distribution respectively, asymtoptics is sufficient to determine to answer the question asked. The trustworthiness of this model depends on how close the distribution of the data is to a normal distribution."
   ]
  },
  {
   "cell_type": "markdown",
   "id": "96bc6a9e-4578-4035-8f9b-ea0e75bf5937",
   "metadata": {},
   "source": [
    "<h2>\n",
    "Discussion\n",
    "</h2>\n",
    "\n",
    "The initial ANOVA test indicated an f-statistic of 119.26 under the null model, leading to a p-value of 1.67e-31 of having said f-statistic at least as extreme. This suggests that the null hypothesis can be rejected and that at least one species of iris has different true mean sepal lengths at a 95% confidence level. This alone is not enough to indicate which, and if all are significantly different. The subsequent t-tests were used to determine this.<br>\n",
    "\n",
    "Three two sample t-tests were conducted comparing the three classes of iris and their sepal lengths against each other. Based on the p-values obtained comparing I. setosa to I. versicolor (p = 3.63e-14) and to I. virginica (p = 2.15e-14), as well as when comparing I. versicolor to I. virginica (p = 8.68e-7), we can safely stat that the null hypothesis can be rejected and that all species have significantly different mean sepal lengths at the 95% confidence level.<br>\n",
    "\n",
    "Figure I sets the expectation that at least within the samples gathered, I. setosa would be significantly different than the other two classes as the distribution of sepal lengths has little to no overlap with them. However, it is not so obvious when comparing I. versicolor and I.virginica as their distributions do overlap.<br>\n",
    "\n",
    "In conclusion, this analysis has shown that these three classes of iris have statistically different sepal lengths and in the future this difference and how approximate the sepal length is to the sample mean shown here could be used as an initial identification tool before more expensive and involved methods are used. Ideally, this same analysis could be used with more classes of irises and if they are found to all be different, then the initial identification of the class of an iris could be as simple as measuring its sepal length."
   ]
  },
  {
   "cell_type": "markdown",
   "id": "e73a8b32-f976-4df0-8610-85fcfa589fc8",
   "metadata": {},
   "source": [
    "<h2>\n",
    "References\n",
    "</h2>\n",
    "    \n",
    "    "
   ]
  },
  {
   "cell_type": "markdown",
   "id": "57eafedb-51ae-4ea7-8dfe-d105aeba81d2",
   "metadata": {},
   "source": [
    "1. Fisher, R. A. The Use of Multiple Measurements in Taxonomic Problems. Annals of Human Genetics, 1936\n",
    "\n",
    "2. Ismay, Chester, and Kim, Albert Y. Statistical Inference via Data Science: A ModernDive into R and the Tidyverse. ModernDive, 2022"
   ]
  }
 ],
 "metadata": {
  "kernelspec": {
   "display_name": "R",
   "language": "R",
   "name": "ir"
  },
  "language_info": {
   "codemirror_mode": "r",
   "file_extension": ".r",
   "mimetype": "text/x-r-source",
   "name": "R",
   "pygments_lexer": "r",
   "version": "4.1.2"
  }
 },
 "nbformat": 4,
 "nbformat_minor": 5
}
