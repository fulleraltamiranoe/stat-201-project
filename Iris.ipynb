{
 "cells": [
  {
   "cell_type": "markdown",
   "id": "c51d594b-17f6-4307-bed6-bd277459cbda",
   "metadata": {
    "tags": []
   },
   "source": [
    "<h1>Use of Samples of Different Classes of Iris Plants for Their Population Inference</h1>"
   ]
  },
  {
   "cell_type": "markdown",
   "id": "f6e91ab7-3e07-428e-93bd-3c572d81c6b0",
   "metadata": {},
   "source": [
    "<h2>Introduction</h2>\n",
    "\n",
    "This group shall explore and analyse a dataset for the flower Iris for this project. The datasets contains 50 samples of three species of Iris (Iris Setosa, Iris Virginica and Iris Versicolor). The following four features are given for each species: sepal length, sepal width, petal length, and petal width all in cm. We shall compare the sepal lengths for Iris Setosa and Iris Versicolor [1]. \n",
    "    \n",
    "Precisely, the question we shall aim to answer is: <b>Does Iris Setosa have a different sepal length than Iris Versicolor?</b> \n",
    "\n",
    "The initial analysis revealed an approximately normally distributed sepal lengths for both samples, therefore the location parameter we have chosen is the sepal length mean and to analyze the variation in our parameter estimates, the scale parameter we have chosen is the standard deviation."
   ]
  },
  {
   "cell_type": "markdown",
   "id": "bab20433-8007-411a-862d-747a651083b9",
   "metadata": {},
   "source": [
    "<h2>\n",
    "Exploratory Data Analysis \n",
    "</h2>"
   ]
  },
  {
   "cell_type": "code",
   "execution_count": 1,
   "id": "d7ae954c-e765-4b90-b9ca-a5b29cded7d7",
   "metadata": {},
   "outputs": [],
   "source": [
    "# install.packages(\"infer\")"
   ]
  },
  {
   "cell_type": "code",
   "execution_count": 2,
   "id": "c528e6e2-a4dd-4435-a0de-54e9e4800479",
   "metadata": {},
   "outputs": [
    {
     "name": "stderr",
     "output_type": "stream",
     "text": [
      "Warning message in system(\"timedatectl\", intern = TRUE):\n",
      "“running command 'timedatectl' had status 1”\n",
      "── \u001b[1mAttaching packages\u001b[22m ─────────────────────────────────────── tidyverse 1.3.1 ──\n",
      "\n",
      "\u001b[32m✔\u001b[39m \u001b[34mggplot2\u001b[39m 3.3.5     \u001b[32m✔\u001b[39m \u001b[34mpurrr  \u001b[39m 0.3.4\n",
      "\u001b[32m✔\u001b[39m \u001b[34mtibble \u001b[39m 3.1.6     \u001b[32m✔\u001b[39m \u001b[34mdplyr  \u001b[39m 1.0.7\n",
      "\u001b[32m✔\u001b[39m \u001b[34mtidyr  \u001b[39m 1.2.0     \u001b[32m✔\u001b[39m \u001b[34mstringr\u001b[39m 1.4.0\n",
      "\u001b[32m✔\u001b[39m \u001b[34mreadr  \u001b[39m 2.1.2     \u001b[32m✔\u001b[39m \u001b[34mforcats\u001b[39m 0.5.1\n",
      "\n",
      "── \u001b[1mConflicts\u001b[22m ────────────────────────────────────────── tidyverse_conflicts() ──\n",
      "\u001b[31m✖\u001b[39m \u001b[34mdplyr\u001b[39m::\u001b[32mfilter()\u001b[39m masks \u001b[34mstats\u001b[39m::filter()\n",
      "\u001b[31m✖\u001b[39m \u001b[34mdplyr\u001b[39m::\u001b[32mlag()\u001b[39m    masks \u001b[34mstats\u001b[39m::lag()\n",
      "\n",
      "\n",
      "Attaching package: ‘scales’\n",
      "\n",
      "\n",
      "The following object is masked from ‘package:purrr’:\n",
      "\n",
      "    discard\n",
      "\n",
      "\n",
      "The following object is masked from ‘package:readr’:\n",
      "\n",
      "    col_factor\n",
      "\n",
      "\n"
     ]
    }
   ],
   "source": [
    "# Load libraries\n",
    "library(tidyverse)\n",
    "library(repr)\n",
    "library(scales)\n",
    "library(broom)\n",
    "library(infer)"
   ]
  },
  {
   "cell_type": "code",
   "execution_count": 3,
   "id": "a8b1956f-33b1-496f-a177-50e6cbc9ff7b",
   "metadata": {},
   "outputs": [
    {
     "name": "stderr",
     "output_type": "stream",
     "text": [
      "\u001b[1mRows: \u001b[22m\u001b[34m150\u001b[39m \u001b[1mColumns: \u001b[22m\u001b[34m5\u001b[39m\n",
      "\u001b[36m──\u001b[39m \u001b[1mColumn specification\u001b[22m \u001b[36m────────────────────────────────────────────────────────\u001b[39m\n",
      "\u001b[1mDelimiter:\u001b[22m \",\"\n",
      "\u001b[31mchr\u001b[39m (1): class\n",
      "\u001b[32mdbl\u001b[39m (4): sepal_length, sepal_width, petal_length, petal_width\n",
      "\n",
      "\u001b[36mℹ\u001b[39m Use `spec()` to retrieve the full column specification for this data.\n",
      "\u001b[36mℹ\u001b[39m Specify the column types or set `show_col_types = FALSE` to quiet this message.\n"
     ]
    }
   ],
   "source": [
    "# Loading the Dataset and treat class as a factor\n",
    "url = \"https://raw.githubusercontent.com/fulleraltamiranoe/stat-201-project/main/iris.csv\"\n",
    "iris_data <- read_csv(url) %>% \n",
    "    mutate(class = as_factor(class))"
   ]
  },
  {
   "cell_type": "code",
   "execution_count": 4,
   "id": "d5ea429e-00fb-4b76-9629-f1ecae58e009",
   "metadata": {},
   "outputs": [],
   "source": [
    "# Set seed to ensure reproducible randomness\n",
    "set.seed(1001)\n",
    "\n",
    "# Filter for class of interest (Iris-setosa)\n",
    "iris_setosa_sample <- iris_data %>%\n",
    "    filter(class == 'Iris-setosa') %>%\n",
    "    select(sepal_length)\n",
    "\n",
    "# Filter for class of interest (Iris-versicolor)\n",
    "iris_versicolor_sample <- iris_data %>%\n",
    "    filter(class == 'Iris-versicolor') %>%\n",
    "    select(sepal_length)\n",
    "\n",
    "# Point statistics of interest (sepal length mean, sd)\n",
    "setosa_mean <- iris_setosa_sample %>%\n",
    "    summarize(setosa_mean = mean(sepal_length), setosa_sd = sd(sepal_length))\n",
    "# Point statistics of interest (sepal length mean, sd)\n",
    "versicolor_mean <- iris_versicolor_sample %>%\n",
    "    summarize(versicolor_mean = mean(sepal_length), versicolor_sd = sd(sepal_length))\n",
    "\n",
    "# merging sample statistics of interest into a single tibble\n",
    "sample_statistics <- merge(setosa_mean, versicolor_mean) %>%\n",
    "    mutate(mean_diff = abs(setosa_mean - versicolor_mean))"
   ]
  },
  {
   "cell_type": "markdown",
   "id": "4a03171f-299c-4080-9149-936feb08f0dd",
   "metadata": {},
   "source": [
    "<h4>Table 1: Sepal Lengths in cm of a Sample of 50 iris setosa plants</h4>"
   ]
  },
  {
   "cell_type": "code",
   "execution_count": 5,
   "id": "dbbe6bd8-cf22-4c28-86ed-9d93c44545c8",
   "metadata": {},
   "outputs": [
    {
     "data": {
      "text/html": [
       "<table class=\"dataframe\">\n",
       "<caption>A tibble: 6 × 1</caption>\n",
       "<thead>\n",
       "\t<tr><th scope=col>sepal_length</th></tr>\n",
       "\t<tr><th scope=col>&lt;dbl&gt;</th></tr>\n",
       "</thead>\n",
       "<tbody>\n",
       "\t<tr><td>5.1</td></tr>\n",
       "\t<tr><td>4.9</td></tr>\n",
       "\t<tr><td>4.7</td></tr>\n",
       "\t<tr><td>4.6</td></tr>\n",
       "\t<tr><td>5.0</td></tr>\n",
       "\t<tr><td>5.4</td></tr>\n",
       "</tbody>\n",
       "</table>\n"
      ],
      "text/latex": [
       "A tibble: 6 × 1\n",
       "\\begin{tabular}{l}\n",
       " sepal\\_length\\\\\n",
       " <dbl>\\\\\n",
       "\\hline\n",
       "\t 5.1\\\\\n",
       "\t 4.9\\\\\n",
       "\t 4.7\\\\\n",
       "\t 4.6\\\\\n",
       "\t 5.0\\\\\n",
       "\t 5.4\\\\\n",
       "\\end{tabular}\n"
      ],
      "text/markdown": [
       "\n",
       "A tibble: 6 × 1\n",
       "\n",
       "| sepal_length &lt;dbl&gt; |\n",
       "|---|\n",
       "| 5.1 |\n",
       "| 4.9 |\n",
       "| 4.7 |\n",
       "| 4.6 |\n",
       "| 5.0 |\n",
       "| 5.4 |\n",
       "\n"
      ],
      "text/plain": [
       "  sepal_length\n",
       "1 5.1         \n",
       "2 4.9         \n",
       "3 4.7         \n",
       "4 4.6         \n",
       "5 5.0         \n",
       "6 5.4         "
      ]
     },
     "metadata": {},
     "output_type": "display_data"
    }
   ],
   "source": [
    "head(iris_setosa_sample)\n",
    "\n",
    "# iris_data"
   ]
  },
  {
   "cell_type": "markdown",
   "id": "3cec118b-19c7-49cb-a34e-3b8d5dd9d57c",
   "metadata": {},
   "source": [
    "<h4>Table 2: Sepal Lengths in cm of a Sample of 50 iris versicolor plants</h4>"
   ]
  },
  {
   "cell_type": "code",
   "execution_count": 6,
   "id": "1c65648d-bf7a-43e3-9528-31fe058dfe9b",
   "metadata": {},
   "outputs": [
    {
     "data": {
      "text/html": [
       "<table class=\"dataframe\">\n",
       "<caption>A tibble: 6 × 1</caption>\n",
       "<thead>\n",
       "\t<tr><th scope=col>sepal_length</th></tr>\n",
       "\t<tr><th scope=col>&lt;dbl&gt;</th></tr>\n",
       "</thead>\n",
       "<tbody>\n",
       "\t<tr><td>7.0</td></tr>\n",
       "\t<tr><td>6.4</td></tr>\n",
       "\t<tr><td>6.9</td></tr>\n",
       "\t<tr><td>5.5</td></tr>\n",
       "\t<tr><td>6.5</td></tr>\n",
       "\t<tr><td>5.7</td></tr>\n",
       "</tbody>\n",
       "</table>\n"
      ],
      "text/latex": [
       "A tibble: 6 × 1\n",
       "\\begin{tabular}{l}\n",
       " sepal\\_length\\\\\n",
       " <dbl>\\\\\n",
       "\\hline\n",
       "\t 7.0\\\\\n",
       "\t 6.4\\\\\n",
       "\t 6.9\\\\\n",
       "\t 5.5\\\\\n",
       "\t 6.5\\\\\n",
       "\t 5.7\\\\\n",
       "\\end{tabular}\n"
      ],
      "text/markdown": [
       "\n",
       "A tibble: 6 × 1\n",
       "\n",
       "| sepal_length &lt;dbl&gt; |\n",
       "|---|\n",
       "| 7.0 |\n",
       "| 6.4 |\n",
       "| 6.9 |\n",
       "| 5.5 |\n",
       "| 6.5 |\n",
       "| 5.7 |\n",
       "\n"
      ],
      "text/plain": [
       "  sepal_length\n",
       "1 7.0         \n",
       "2 6.4         \n",
       "3 6.9         \n",
       "4 5.5         \n",
       "5 6.5         \n",
       "6 5.7         "
      ]
     },
     "metadata": {},
     "output_type": "display_data"
    }
   ],
   "source": [
    "head(iris_versicolor_sample)"
   ]
  },
  {
   "cell_type": "markdown",
   "id": "49e5f356-2bb3-46d2-80d6-6db7fc55132c",
   "metadata": {},
   "source": [
    "<h4>Table 3: Sample Statistics of interest of 2 classes of iris plants (n = 50)</h4>"
   ]
  },
  {
   "cell_type": "code",
   "execution_count": 7,
   "id": "b9b92401-37fa-4627-a2a5-50ac671a3bf9",
   "metadata": {},
   "outputs": [
    {
     "data": {
      "text/html": [
       "<table class=\"dataframe\">\n",
       "<caption>A data.frame: 1 × 5</caption>\n",
       "<thead>\n",
       "\t<tr><th scope=col>setosa_mean</th><th scope=col>setosa_sd</th><th scope=col>versicolor_mean</th><th scope=col>versicolor_sd</th><th scope=col>mean_diff</th></tr>\n",
       "\t<tr><th scope=col>&lt;dbl&gt;</th><th scope=col>&lt;dbl&gt;</th><th scope=col>&lt;dbl&gt;</th><th scope=col>&lt;dbl&gt;</th><th scope=col>&lt;dbl&gt;</th></tr>\n",
       "</thead>\n",
       "<tbody>\n",
       "\t<tr><td>5.006</td><td>0.3524897</td><td>5.936</td><td>0.5161711</td><td>0.93</td></tr>\n",
       "</tbody>\n",
       "</table>\n"
      ],
      "text/latex": [
       "A data.frame: 1 × 5\n",
       "\\begin{tabular}{lllll}\n",
       " setosa\\_mean & setosa\\_sd & versicolor\\_mean & versicolor\\_sd & mean\\_diff\\\\\n",
       " <dbl> & <dbl> & <dbl> & <dbl> & <dbl>\\\\\n",
       "\\hline\n",
       "\t 5.006 & 0.3524897 & 5.936 & 0.5161711 & 0.93\\\\\n",
       "\\end{tabular}\n"
      ],
      "text/markdown": [
       "\n",
       "A data.frame: 1 × 5\n",
       "\n",
       "| setosa_mean &lt;dbl&gt; | setosa_sd &lt;dbl&gt; | versicolor_mean &lt;dbl&gt; | versicolor_sd &lt;dbl&gt; | mean_diff &lt;dbl&gt; |\n",
       "|---|---|---|---|---|\n",
       "| 5.006 | 0.3524897 | 5.936 | 0.5161711 | 0.93 |\n",
       "\n"
      ],
      "text/plain": [
       "  setosa_mean setosa_sd versicolor_mean versicolor_sd mean_diff\n",
       "1 5.006       0.3524897 5.936           0.5161711     0.93     "
      ]
     },
     "metadata": {},
     "output_type": "display_data"
    }
   ],
   "source": [
    "sample_statistics"
   ]
  },
  {
   "cell_type": "code",
   "execution_count": 8,
   "id": "a52eaf0f-2d04-4119-abb8-0c07022a1414",
   "metadata": {},
   "outputs": [
    {
     "data": {
      "image/png": "[encoded data removed]",
      "text/plain": [
       "plot without title"
      ]
     },
     "metadata": {
      "image/png": {
       "height": 480,
       "width": 600
      }
     },
     "output_type": "display_data"
    },
    {
     "data": {
      "image/png": "[encoded data removed]",
      "text/plain": [
       "plot without title"
      ]
     },
     "metadata": {
      "image/png": {
       "height": 480,
       "width": 600
      }
     },
     "output_type": "display_data"
    }
   ],
   "source": [
    "# Visualize Sample Distribution\n",
    "options(repr.plot.width = 10, repr.plot.height = 8)\n",
    "setosa_sample_dist <- iris_setosa_sample %>%\n",
    "    ggplot(aes(x = sepal_length)) +\n",
    "    geom_histogram(binwidth = 0.15, color=\"orange\", fill=\"#E9D66B\") +\n",
    "    geom_vline(aes(xintercept = sample_statistics$setosa_mean),linetype=\"dashed\", color = \"black\", alpha=.3, lwd=2) +\n",
    "    labs(x = 'Sepal Length [cm]', y = 'Count') +\n",
    "    ggtitle('Figure 1: Sample Distribution of the Sepal Length of a sample of Iris Setosa (n = 50)') +\n",
    "    theme(text = element_text(size = 14), plot.title = element_text(hjust = 0.5)) +\n",
    "    annotate(\"text\", x = 5.4, y = 12, label = \"Observed test statistic\", color=\"black\", size=7)\n",
    "setosa_sample_dist\n",
    "\n",
    "# Visualize Sample Distribution\n",
    "options(repr.plot.width = 10, repr.plot.height = 8)\n",
    "versicolor_sample_dist <- iris_versicolor_sample %>%\n",
    "    ggplot(aes(x = sepal_length)) +\n",
    "    geom_histogram(binwidth = 0.15, color=\"darkblue\", fill=\"#4166F5\") +\n",
    "    geom_vline(aes(xintercept = sample_statistics$versicolor_mean), linetype=\"dashed\", color = \"black\", alpha=.3, lwd=2) +\n",
    "    labs(x = 'Sepal Length [cm]', y = 'Count') +\n",
    "    ggtitle('Figure 2: Sample Distribution of the Sepal Length of a sample of Iris Versicolor (n = 50)') +\n",
    "    theme(text = element_text(size = 14), plot.title = element_text(hjust = 0.5)) +\n",
    "    annotate(\"text\", x = 6.4, y = 10, label = \"Observed test statistic\", color=\"black\", size=7) \n",
    "versicolor_sample_dist"
   ]
  },
  {
   "cell_type": "markdown",
   "id": "cc4bbddf-a7ee-4e01-af99-ee9a4e3edfc9",
   "metadata": {},
   "source": [
    "<h2>\n",
    "Methods\n",
    "</h2>\n",
    "\n",
    "In order to test our inferential question, we want to formulate a null hypothesis and an alternate hypothesis. Our null hypothesis states that the mean sepal length of Iris Setosa (i1) minus that of Iris Versicolor (i2) = 0, our alternate hypothesis then states that the mean sepal length of Iris Setosa minus that of Iris Versicolor is not equal to 0.\n",
    "  \n",
    "\n",
    "Ho -> i1 - i2 = 0 \n",
    "\n",
    "H1 -> i1 - i2 != 0\n",
    "\n",
    "\n",
    "To analyze if the null hypothesis is true, we would first look at the observed statistics, where we can calculate the mean sepal length of Iris Setosa minus that of Iris Versicolor. Further, we would generate samples from the null distribution and then calculate the results of the hypothesis test. Both steps can be done using the infer package in R. We can then plot the results of the hypothesis test and calculate a respective p-value. With this p-value, we would then be able to make a conclusion on whether we have enough evidence to reject the null hypothesis [2]. Moreover, as we analyze the implications of the p-value, comments on type I and type II errors can be made.\n"
   ]
  },
  {
   "cell_type": "code",
   "execution_count": 9,
   "id": "4e077264-98dc-4d17-b702-5d73a5c621b1",
   "metadata": {},
   "outputs": [
    {
     "data": {
      "text/html": [
       "<table class=\"dataframe\">\n",
       "<caption>A tibble: 3 × 3</caption>\n",
       "<thead>\n",
       "\t<tr><th scope=col>class</th><th scope=col>sample_mean</th><th scope=col>sample_sd</th></tr>\n",
       "\t<tr><th scope=col>&lt;fct&gt;</th><th scope=col>&lt;dbl&gt;</th><th scope=col>&lt;dbl&gt;</th></tr>\n",
       "</thead>\n",
       "<tbody>\n",
       "\t<tr><td>Iris-setosa    </td><td>5.006</td><td>0.3524897</td></tr>\n",
       "\t<tr><td>Iris-versicolor</td><td>5.936</td><td>0.5161711</td></tr>\n",
       "\t<tr><td>Iris-virginica </td><td>6.588</td><td>0.6358796</td></tr>\n",
       "</tbody>\n",
       "</table>\n"
      ],
      "text/latex": [
       "A tibble: 3 × 3\n",
       "\\begin{tabular}{lll}\n",
       " class & sample\\_mean & sample\\_sd\\\\\n",
       " <fct> & <dbl> & <dbl>\\\\\n",
       "\\hline\n",
       "\t Iris-setosa     & 5.006 & 0.3524897\\\\\n",
       "\t Iris-versicolor & 5.936 & 0.5161711\\\\\n",
       "\t Iris-virginica  & 6.588 & 0.6358796\\\\\n",
       "\\end{tabular}\n"
      ],
      "text/markdown": [
       "\n",
       "A tibble: 3 × 3\n",
       "\n",
       "| class &lt;fct&gt; | sample_mean &lt;dbl&gt; | sample_sd &lt;dbl&gt; |\n",
       "|---|---|---|\n",
       "| Iris-setosa     | 5.006 | 0.3524897 |\n",
       "| Iris-versicolor | 5.936 | 0.5161711 |\n",
       "| Iris-virginica  | 6.588 | 0.6358796 |\n",
       "\n"
      ],
      "text/plain": [
       "  class           sample_mean sample_sd\n",
       "1 Iris-setosa     5.006       0.3524897\n",
       "2 Iris-versicolor 5.936       0.5161711\n",
       "3 Iris-virginica  6.588       0.6358796"
      ]
     },
     "metadata": {},
     "output_type": "display_data"
    },
    {
     "data": {
      "image/png": "[encoded data removed]",
      "text/plain": [
       "plot without title"
      ]
     },
     "metadata": {
      "image/png": {
       "height": 480,
       "width": 600
      }
     },
     "output_type": "display_data"
    }
   ],
   "source": [
    "# testing some things, in terms of general data stuff\n",
    "\n",
    "iris_data_test <- iris_data %>% \n",
    "select(\"sepal_length\", \"class\") %>%\n",
    "group_by(class) %>%\n",
    "summarise(sample_mean = mean(sepal_length), \n",
    "          sample_sd = sd(sepal_length))\n",
    "\n",
    "# rough plotting, jitter optional :)\n",
    "iris_boxplot <- iris_data %>%\n",
    "    ggplot(aes(x=class, y=sepal_length))+\n",
    "    geom_boxplot()+\n",
    "    geom_jitter()\n",
    "\n",
    "iris_data_test\n",
    "iris_boxplot"
   ]
  },
  {
   "cell_type": "code",
   "execution_count": 26,
   "id": "9c9ef604-3773-4b95-837d-a7d66fc9b04a",
   "metadata": {},
   "outputs": [
    {
     "data": {
      "text/html": [
       "<table class=\"dataframe\">\n",
       "<caption>A tibble: 1 × 2</caption>\n",
       "<thead>\n",
       "\t<tr><th scope=col>lower_ci</th><th scope=col>upper_ci</th></tr>\n",
       "\t<tr><th scope=col>&lt;dbl&gt;</th><th scope=col>&lt;dbl&gt;</th></tr>\n",
       "</thead>\n",
       "<tbody>\n",
       "\t<tr><td>4.4</td><td>5.7</td></tr>\n",
       "</tbody>\n",
       "</table>\n"
      ],
      "text/latex": [
       "A tibble: 1 × 2\n",
       "\\begin{tabular}{ll}\n",
       " lower\\_ci & upper\\_ci\\\\\n",
       " <dbl> & <dbl>\\\\\n",
       "\\hline\n",
       "\t 4.4 & 5.7\\\\\n",
       "\\end{tabular}\n"
      ],
      "text/markdown": [
       "\n",
       "A tibble: 1 × 2\n",
       "\n",
       "| lower_ci &lt;dbl&gt; | upper_ci &lt;dbl&gt; |\n",
       "|---|---|\n",
       "| 4.4 | 5.7 |\n",
       "\n"
      ],
      "text/plain": [
       "  lower_ci upper_ci\n",
       "1 4.4      5.7     "
      ]
     },
     "metadata": {},
     "output_type": "display_data"
    },
    {
     "data": {
      "text/html": [
       "<table class=\"dataframe\">\n",
       "<caption>A tibble: 1 × 2</caption>\n",
       "<thead>\n",
       "\t<tr><th scope=col>lower_ci</th><th scope=col>upper_ci</th></tr>\n",
       "\t<tr><th scope=col>&lt;dbl&gt;</th><th scope=col>&lt;dbl&gt;</th></tr>\n",
       "</thead>\n",
       "<tbody>\n",
       "\t<tr><td>5</td><td>6.9</td></tr>\n",
       "</tbody>\n",
       "</table>\n"
      ],
      "text/latex": [
       "A tibble: 1 × 2\n",
       "\\begin{tabular}{ll}\n",
       " lower\\_ci & upper\\_ci\\\\\n",
       " <dbl> & <dbl>\\\\\n",
       "\\hline\n",
       "\t 5 & 6.9\\\\\n",
       "\\end{tabular}\n"
      ],
      "text/markdown": [
       "\n",
       "A tibble: 1 × 2\n",
       "\n",
       "| lower_ci &lt;dbl&gt; | upper_ci &lt;dbl&gt; |\n",
       "|---|---|\n",
       "| 5 | 6.9 |\n",
       "\n"
      ],
      "text/plain": [
       "  lower_ci upper_ci\n",
       "1 5        6.9     "
      ]
     },
     "metadata": {},
     "output_type": "display_data"
    },
    {
     "data": {
      "text/html": [
       "<table class=\"dataframe\">\n",
       "<caption>A tibble: 1 × 2</caption>\n",
       "<thead>\n",
       "\t<tr><th scope=col>lower_ci</th><th scope=col>upper_ci</th></tr>\n",
       "\t<tr><th scope=col>&lt;dbl&gt;</th><th scope=col>&lt;dbl&gt;</th></tr>\n",
       "</thead>\n",
       "<tbody>\n",
       "\t<tr><td>5.6</td><td>7.7</td></tr>\n",
       "</tbody>\n",
       "</table>\n"
      ],
      "text/latex": [
       "A tibble: 1 × 2\n",
       "\\begin{tabular}{ll}\n",
       " lower\\_ci & upper\\_ci\\\\\n",
       " <dbl> & <dbl>\\\\\n",
       "\\hline\n",
       "\t 5.6 & 7.7\\\\\n",
       "\\end{tabular}\n"
      ],
      "text/markdown": [
       "\n",
       "A tibble: 1 × 2\n",
       "\n",
       "| lower_ci &lt;dbl&gt; | upper_ci &lt;dbl&gt; |\n",
       "|---|---|\n",
       "| 5.6 | 7.7 |\n",
       "\n"
      ],
      "text/plain": [
       "  lower_ci upper_ci\n",
       "1 5.6      7.7     "
      ]
     },
     "metadata": {},
     "output_type": "display_data"
    },
    {
     "data": {
      "text/html": [
       "<table class=\"dataframe\">\n",
       "<caption>A tibble: 3 × 3</caption>\n",
       "<thead>\n",
       "\t<tr><th scope=col>class</th><th scope=col>upper_ci</th><th scope=col>lower_ci</th></tr>\n",
       "\t<tr><th scope=col>&lt;fct&gt;</th><th scope=col>&lt;dbl&gt;</th><th scope=col>&lt;dbl&gt;</th></tr>\n",
       "</thead>\n",
       "<tbody>\n",
       "\t<tr><td>Iris-setosa    </td><td>5.089598</td><td>4.922402</td></tr>\n",
       "\t<tr><td>Iris-versicolor</td><td>6.058417</td><td>5.813583</td></tr>\n",
       "\t<tr><td>Iris-virginica </td><td>6.738808</td><td>6.437192</td></tr>\n",
       "</tbody>\n",
       "</table>\n"
      ],
      "text/latex": [
       "A tibble: 3 × 3\n",
       "\\begin{tabular}{lll}\n",
       " class & upper\\_ci & lower\\_ci\\\\\n",
       " <fct> & <dbl> & <dbl>\\\\\n",
       "\\hline\n",
       "\t Iris-setosa     & 5.089598 & 4.922402\\\\\n",
       "\t Iris-versicolor & 6.058417 & 5.813583\\\\\n",
       "\t Iris-virginica  & 6.738808 & 6.437192\\\\\n",
       "\\end{tabular}\n"
      ],
      "text/markdown": [
       "\n",
       "A tibble: 3 × 3\n",
       "\n",
       "| class &lt;fct&gt; | upper_ci &lt;dbl&gt; | lower_ci &lt;dbl&gt; |\n",
       "|---|---|---|\n",
       "| Iris-setosa     | 5.089598 | 4.922402 |\n",
       "| Iris-versicolor | 6.058417 | 5.813583 |\n",
       "| Iris-virginica  | 6.738808 | 6.437192 |\n",
       "\n"
      ],
      "text/plain": [
       "  class           upper_ci lower_ci\n",
       "1 Iris-setosa     5.089598 4.922402\n",
       "2 Iris-versicolor 6.058417 5.813583\n",
       "3 Iris-virginica  6.738808 6.437192"
      ]
     },
     "metadata": {},
     "output_type": "display_data"
    }
   ],
   "source": [
    "# some statistical tests\n",
    "\n",
    "# iris_data_test\n",
    "\n",
    "# math is based on some notes i had from STAT200\n",
    "\n",
    "# ANOVA to see if they are all the same\n",
    "\n",
    "anova_results <- aov(sepal_length~class, data=iris_data) %>% tidy()\n",
    "f_stat = anova_results$statistic[1]\n",
    "p_val=anova_results$p.value[1]\n",
    "\n",
    "# anova_results\n",
    "# f_stat\n",
    "# p_val # very statistically significantly different\n",
    "\n",
    "# conclusion so far: at least one of them is different\n",
    "\n",
    "# next question: which one is different?\n",
    "# test 1: setosa vs versicolor\n",
    "setosa_mean = iris_data_test$sample_mean[1]\n",
    "setosa_sd = iris_data_test$sample_sd[1]\n",
    "versicolor_mean=iris_data_test$sample_mean[2]\n",
    "versicolor_sd=iris_data_test$sample_sd[2]\n",
    "\n",
    "t_1 = (setosa_mean-versicolor_mean)/sqrt((((setosa_sd)^2)/50)+(((versicolor_sd)^2)/50))\n",
    "p_val1 = pt(t_1, df=49)*2 \n",
    "# conclusion: setosa sepal != versicolor sepal at every confidence level we care about\n",
    "\n",
    "# test 2: setosa vs virginica\n",
    "\n",
    "virginica_mean=iris_data_test$sample_mean[3]\n",
    "virginica_sd=iris_data_test$sample_sd[3]\n",
    "\n",
    "t_2 = (setosa_mean-virginica_mean)/sqrt((((setosa_sd)^2)/50)+(((virginica_sd)^2)/50))\n",
    "p_val2 = pt(t_2, df=49)*2 \n",
    "# conclusion: setosa sepal != virginica sepal at every confidence level we care about\n",
    "\n",
    "# test 3: versicolor vs virginica\n",
    "t_3 = (versicolor_mean-virginica_mean)/sqrt((((versicolor_sd)^2)/50)+(((virginica_sd)^2)/50))\n",
    "p_val3 = pt(t_3, df=49) *2\n",
    "# conclusion: versicolor != verginica at any confidence level we care about\n",
    "\n",
    "# p_val1\n",
    "# p_val2\n",
    "# p_val3\n",
    "\n",
    "# OVERALL CONCLUSION: THEY ARE ALL DIFFERENT TO ANY REASONABLE CONFIDENCE LEVEL (by asymptotics i suppose)\n",
    "\n",
    "\n",
    "# some random extra math thaty may or may not be useful, who knows, I certanily don't\n",
    "\n",
    "# calculating the 95% confidence intervals for the means of sepal length, by boostrapping and quantiles\n",
    "# BOOTSTRAP: size = 50, reps = 2000 (idk it's pretty arbitrary at the moment)\n",
    "\n",
    "setosa_bootstrap <- iris_data %>%\n",
    "    filter(class==\"Iris-setosa\") %>%\n",
    "    rep_sample_n(size=50, reps=2000, replace = TRUE) %>%\n",
    "    ungroup() %>%\n",
    "    select(sepal_length)\n",
    "\n",
    "versicolor_bootstrap <- iris_data %>%\n",
    "    filter(class==\"Iris-versicolor\") %>%\n",
    "    rep_sample_n(size=50, reps=2000, replace = TRUE) %>%\n",
    "    ungroup() %>%\n",
    "    select(sepal_length)\n",
    "\n",
    "virginica_bootstrap <- iris_data %>%\n",
    "    filter(class==\"Iris-virginica\") %>%\n",
    "    rep_sample_n(size=50, reps=2000, replace = TRUE) %>%\n",
    "    ungroup() %>%\n",
    "    select(sepal_length)\n",
    "\n",
    "setosa_bootstrap_ci <- setosa_bootstrap %>%\n",
    "    summarize(lower_ci = quantile(sepal_length, 0.025),\n",
    "              upper_ci = quantile(sepal_length, 0.975))\n",
    "\n",
    "versicolor_bootstrap_ci <- versicolor_bootstrap %>%\n",
    "    summarize(lower_ci = quantile(sepal_length, 0.025),\n",
    "              upper_ci = quantile(sepal_length, 0.975))\n",
    "\n",
    "virginica_bootstrap_ci <- virginica_bootstrap %>%\n",
    "    summarize(lower_ci = quantile(sepal_length, 0.025),\n",
    "              upper_ci = quantile(sepal_length, 0.975))\n",
    "\n",
    "\n",
    "setosa_bootstrap_ci\n",
    "versicolor_bootstrap_ci\n",
    "virginica_bootstrap_ci\n",
    "\n",
    "# 95% CI by asymptotics\n",
    "\n",
    "sample_asymptotics_ci <- iris_data_test %>%\n",
    "    mutate(upper_ci = sample_mean + 1.677*sample_sd/sqrt(50),\n",
    "          lower_ci = sample_mean - 1.677*sample_sd/sqrt(50)) %>%\n",
    "    select(class, upper_ci, lower_ci)\n",
    "\n",
    "sample_asymptotics_ci"
   ]
  },
  {
   "cell_type": "markdown",
   "id": "77740557-95a5-4ee0-afc0-34ef767ac36c",
   "metadata": {},
   "source": [
    "<h2>\n",
    "Results\n",
    "</h2>\n",
    "\n",
    "The null hypothesis for the ANOVA test states that the sepals from the three different subspecies of Iris are the same. The F-statistic under the null-model is 119.26 which gives a p value of 1.67e-31. This suggests that at least one subspecies of Iris has a different average sepal length than the others at the 95% confidence level and we have sufficient evidence to  reject the null hypothesis. A series of 2 sample t-tests were performed to determine which pairs of plants are different. The null hypothesis for each of the t-tests is that the two species have the same sepal length. The p values for the comparison of I. setosa and I. versicolor, I. setosa and I. virginica, and I. versicolor and I. virginica, were 3.63e-14, 2.15e-14, and 8.68e-7, respectively; suggesting that the null hypothesis can be rejected and that all species have different sepal lengths at the 95% confidence level. "
   ]
  },
  {
   "cell_type": "markdown",
   "id": "05d76417-d956-4edf-ab4e-6c493f076e04",
   "metadata": {},
   "source": [
    "<h2>\n",
    "Discussion\n",
    "</h2>"
   ]
  },
  {
   "cell_type": "markdown",
   "id": "e73a8b32-f976-4df0-8610-85fcfa589fc8",
   "metadata": {},
   "source": [
    "<h2>\n",
    "References\n",
    "</h2>\n",
    "    \n",
    "    "
   ]
  },
  {
   "cell_type": "markdown",
   "id": "57eafedb-51ae-4ea7-8dfe-d105aeba81d2",
   "metadata": {},
   "source": [
    "1. Fisher, R. A. The Use of Multiple Measurements in Taxonomic Problems. Annals of Human Genetics, 1936\n",
    "\n",
    "2. Ismay, Chester, and Kim, Albert Y. Statistical Inference via Data Science: A ModernDive into R and the Tidyverse. ModernDive, 2022"
   ]
  }
 ],
 "metadata": {
  "kernelspec": {
   "display_name": "R",
   "language": "R",
   "name": "ir"
  },
  "language_info": {
   "codemirror_mode": "r",
   "file_extension": ".r",
   "mimetype": "text/x-r-source",
   "name": "R",
   "pygments_lexer": "r",
   "version": "4.1.2"
  }
 },
 "nbformat": 4,
 "nbformat_minor": 5
}
