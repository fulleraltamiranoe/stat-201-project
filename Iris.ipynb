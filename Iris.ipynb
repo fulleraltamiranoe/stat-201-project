{
 "cells": [
  {
   "cell_type": "code",
   "execution_count": 1,
   "id": "1ad2410d-abb6-427d-a371-d6f57ba2bf6a",
   "metadata": {},
   "outputs": [
    {
     "name": "stderr",
     "output_type": "stream",
     "text": [
      "Warning message in system(\"timedatectl\", intern = TRUE):\n",
      "“running command 'timedatectl' had status 1”\n",
      "── \u001b[1mAttaching packages\u001b[22m ─────────────────────────────────────── tidyverse 1.3.1 ──\n",
      "\n",
      "\u001b[32m✔\u001b[39m \u001b[34mggplot2\u001b[39m 3.3.5     \u001b[32m✔\u001b[39m \u001b[34mpurrr  \u001b[39m 0.3.4\n",
      "\u001b[32m✔\u001b[39m \u001b[34mtibble \u001b[39m 3.1.6     \u001b[32m✔\u001b[39m \u001b[34mdplyr  \u001b[39m 1.0.7\n",
      "\u001b[32m✔\u001b[39m \u001b[34mtidyr  \u001b[39m 1.1.4     \u001b[32m✔\u001b[39m \u001b[34mstringr\u001b[39m 1.4.0\n",
      "\u001b[32m✔\u001b[39m \u001b[34mreadr  \u001b[39m 2.1.1     \u001b[32m✔\u001b[39m \u001b[34mforcats\u001b[39m 0.5.1\n",
      "\n",
      "── \u001b[1mConflicts\u001b[22m ────────────────────────────────────────── tidyverse_conflicts() ──\n",
      "\u001b[31m✖\u001b[39m \u001b[34mdplyr\u001b[39m::\u001b[32mfilter()\u001b[39m masks \u001b[34mstats\u001b[39m::filter()\n",
      "\u001b[31m✖\u001b[39m \u001b[34mdplyr\u001b[39m::\u001b[32mlag()\u001b[39m    masks \u001b[34mstats\u001b[39m::lag()\n",
      "\n"
     ]
    },
    {
     "ename": "ERROR",
     "evalue": "Error in library(tidymodels): there is no package called ‘tidymodels’\n",
     "output_type": "error",
     "traceback": [
      "Error in library(tidymodels): there is no package called ‘tidymodels’\nTraceback:\n",
      "1. library(tidymodels)"
     ]
    }
   ],
   "source": [
    "library(tidyverse)\n",
    "library(repr)\n",
    "library(tidymodels)\n",
    "library(scales)\n",
    "library(RColorBrewer)\n",
    "library(infer)\n",
    "options(repr.matrix.max.rows = 3)"
   ]
  },
  {
   "cell_type": "code",
   "execution_count": null,
   "id": "a8b1956f-33b1-496f-a177-50e6cbc9ff7b",
   "metadata": {},
   "outputs": [],
   "source": [
    "url = \"https://raw.githubusercontent.com/fulleraltamiranoe/toy_ds_project/main/iris.csv\"\n",
    "iris_data <- read_csv(url) \n",
    "head(iris_data)"
   ]
  },
  {
   "cell_type": "code",
   "execution_count": null,
   "id": "d5ea429e-00fb-4b76-9629-f1ecae58e009",
   "metadata": {},
   "outputs": [],
   "source": [
    "iris_sample <- iris_data %>%\n",
    "    mutate(class = as_factor(class)) %>%\n",
    "    filter(class == 'Iris-setosa') %>%\n",
    "    select(sepal_length)\n",
    "head(iris_sample) # sample size = 50"
   ]
  },
  {
   "cell_type": "code",
   "execution_count": null,
   "id": "a52eaf0f-2d04-4119-abb8-0c07022a1414",
   "metadata": {},
   "outputs": [],
   "source": [
    "options(repr.plot.width = 10, repr.plot.height = 8)\n",
    "iris_sample_dist <- iris_sample %>%\n",
    "    ggplot(aes(x = sepal_length)) +\n",
    "    geom_histogram(binwidth = 0.15, colour = 'white') +\n",
    "    labs(x = 'Sepal Length [cm]', y = 'Count') +\n",
    "    ggtitle('Sample Distribution of the Sepal Length in cm of a sample of Iris Setosa (n = 50)') +\n",
    "    theme(text = element_text(size = 14), plot.title = element_text(hjust = 0.5))\n",
    "iris_sample_dist"
   ]
  },
  {
   "cell_type": "code",
   "execution_count": null,
   "id": "96d8f20f-fa18-4788-96ae-6e4420acb430",
   "metadata": {},
   "outputs": [],
   "source": [
    "sample_mean <- iris_sample %>%\n",
    "    summarize(mean = mean(sepal_length))\n",
    "sample_mean\n"
   ]
  },
  {
   "cell_type": "code",
   "execution_count": null,
   "id": "0c7f7ba3-69af-4f05-a3ed-94b902cecbc4",
   "metadata": {},
   "outputs": [],
   "source": [
    "#HELLO"
   ]
  },
  {
   "cell_type": "code",
   "execution_count": null,
   "id": "bff8ae41-e595-4067-93a9-a4ae57131412",
   "metadata": {},
   "outputs": [],
   "source": [
    "library(infer)"
   ]
  },
  {
   "cell_type": "code",
   "execution_count": null,
   "id": "709e7910-0e79-4f2e-b07d-d77efa37ed6a",
   "metadata": {},
   "outputs": [],
   "source": [
    "iris_bootstrap <- iris_sample %>%\n",
    "    specify(response = sepal_length) %>%\n",
    "    generate(type = 'bootstrap', reps = 1500) %>%\n",
    "    calculate(stat = \"mean\")\n",
    "head(iris_bootstrap)"
   ]
  },
  {
   "cell_type": "code",
   "execution_count": null,
   "id": "a977aef5-4ea6-49e1-a901-e4237defad4d",
   "metadata": {},
   "outputs": [],
   "source": [
    "iris_ci <-iris_bootstrap %>%\n",
    "    get_ci(level = 0.95, type = \"percentile\")\n",
    "iris_ci"
   ]
  },
  {
   "cell_type": "code",
   "execution_count": null,
   "id": "2bc005ee-a9b7-4dbd-ba5b-1572c28032ab",
   "metadata": {},
   "outputs": [],
   "source": [
    "bootstrap_sd <- iris_bootstrap %>%\n",
    "    visualize() +\n",
    "    shade_ci(endpoints = iris_ci)\n",
    "bootstrap_sd"
   ]
  },
  {
   "cell_type": "code",
   "execution_count": null,
   "id": "a0c04b70-3897-4f9a-ae50-a75de4f4b90c",
   "metadata": {},
   "outputs": [],
   "source": []
  }
 ],
 "metadata": {
  "kernelspec": {
   "display_name": "R",
   "language": "R",
   "name": "ir"
  },
  "language_info": {
   "codemirror_mode": "r",
   "file_extension": ".r",
   "mimetype": "text/x-r-source",
   "name": "R",
   "pygments_lexer": "r",
   "version": "4.1.2"
  }
 },
 "nbformat": 4,
 "nbformat_minor": 5
}
