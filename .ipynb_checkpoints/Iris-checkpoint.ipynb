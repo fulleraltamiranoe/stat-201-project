{
 "cells": [
  {
   "cell_type": "markdown",
   "id": "c51d594b-17f6-4307-bed6-bd277459cbda",
   "metadata": {
    "tags": []
   },
   "source": [
    "<h1>Use of Samples of Different Classes of Iris Plants for Their Population Inference</h1>"
   ]
  },
  {
   "cell_type": "markdown",
   "id": "f6e91ab7-3e07-428e-93bd-3c572d81c6b0",
   "metadata": {},
   "source": [
    "<h2>Introduction</h2>\n",
    "\n",
    "<p>\n",
    "This group shall explore and analyse a dataset for the flower Iris for this project. The dataset contains 50 samples of three species of Iris (Iris Setosa, Iris Virginica and Iris Versicolor). The following four features are given for each species: sepal length, sepal width, petal length, and petal width. We shall compare the sepal lengths for Iris Setosa and Iris Versicolor. Precisely, the question we shall aim to answer is: Does Iris Setosa have a higher mean sepal length than Iris Versicolor? The initial analysis revealed an approximately normally distributed sepal lengths for both species, therefore the location parameter we have chosen is the mean and to analyse the variation in our parameter estimates, the scale parameter we have chosen is the standard deviation.\n",
    "</p>"
   ]
  },
  {
   "cell_type": "markdown",
   "id": "bab20433-8007-411a-862d-747a651083b9",
   "metadata": {},
   "source": [
    "<h2>\n",
    "Exploratory Data Analysis \n",
    "</h2>"
   ]
  },
  {
   "cell_type": "code",
   "execution_count": 1,
   "id": "c528e6e2-a4dd-4435-a0de-54e9e4800479",
   "metadata": {},
   "outputs": [
    {
     "name": "stderr",
     "output_type": "stream",
     "text": [
      "Warning message in system(\"timedatectl\", intern = TRUE):\n",
      "“running command 'timedatectl' had status 1”\n",
      "── \u001b[1mAttaching packages\u001b[22m ─────────────────────────────────────── tidyverse 1.3.1 ──\n",
      "\n",
      "\u001b[32m✔\u001b[39m \u001b[34mggplot2\u001b[39m 3.3.5     \u001b[32m✔\u001b[39m \u001b[34mpurrr  \u001b[39m 0.3.4\n",
      "\u001b[32m✔\u001b[39m \u001b[34mtibble \u001b[39m 3.1.6     \u001b[32m✔\u001b[39m \u001b[34mdplyr  \u001b[39m 1.0.7\n",
      "\u001b[32m✔\u001b[39m \u001b[34mtidyr  \u001b[39m 1.1.4     \u001b[32m✔\u001b[39m \u001b[34mstringr\u001b[39m 1.4.0\n",
      "\u001b[32m✔\u001b[39m \u001b[34mreadr  \u001b[39m 2.1.1     \u001b[32m✔\u001b[39m \u001b[34mforcats\u001b[39m 0.5.1\n",
      "\n",
      "── \u001b[1mConflicts\u001b[22m ────────────────────────────────────────── tidyverse_conflicts() ──\n",
      "\u001b[31m✖\u001b[39m \u001b[34mdplyr\u001b[39m::\u001b[32mfilter()\u001b[39m masks \u001b[34mstats\u001b[39m::filter()\n",
      "\u001b[31m✖\u001b[39m \u001b[34mdplyr\u001b[39m::\u001b[32mlag()\u001b[39m    masks \u001b[34mstats\u001b[39m::lag()\n",
      "\n",
      "\n",
      "Attaching package: ‘scales’\n",
      "\n",
      "\n",
      "The following object is masked from ‘package:purrr’:\n",
      "\n",
      "    discard\n",
      "\n",
      "\n",
      "The following object is masked from ‘package:readr’:\n",
      "\n",
      "    col_factor\n",
      "\n",
      "\n"
     ]
    },
    {
     "ename": "ERROR",
     "evalue": "Error in library(infer): there is no package called ‘infer’\n",
     "output_type": "error",
     "traceback": [
      "Error in library(infer): there is no package called ‘infer’\nTraceback:\n",
      "1. library(infer)"
     ]
    }
   ],
   "source": [
    "library(tidyverse)\n",
    "library(repr)\n",
    "library(scales)\n",
    "library(RColorBrewer)\n",
    "library(infer)\n",
    "# Ensure the Palette used is colour blind friendly\n",
    "display.brewer.all(colorblindFriendly = TRUE)"
   ]
  },
  {
   "cell_type": "code",
   "execution_count": 2,
   "id": "a8b1956f-33b1-496f-a177-50e6cbc9ff7b",
   "metadata": {},
   "outputs": [
    {
     "name": "stderr",
     "output_type": "stream",
     "text": [
      "\u001b[1mRows: \u001b[22m\u001b[34m150\u001b[39m \u001b[1mColumns: \u001b[22m\u001b[34m5\u001b[39m\n",
      "\n",
      "\u001b[36m──\u001b[39m \u001b[1mColumn specification\u001b[22m \u001b[36m────────────────────────────────────────────────────────\u001b[39m\n",
      "\u001b[1mDelimiter:\u001b[22m \",\"\n",
      "\u001b[31mchr\u001b[39m (1): class\n",
      "\u001b[32mdbl\u001b[39m (4): sepal_length, sepal_width, petal_length, petal_width\n",
      "\n",
      "\n",
      "\u001b[36mℹ\u001b[39m Use \u001b[30m\u001b[47m\u001b[30m\u001b[47m`spec()`\u001b[47m\u001b[30m\u001b[49m\u001b[39m to retrieve the full column specification for this data.\n",
      "\u001b[36mℹ\u001b[39m Specify the column types or set \u001b[30m\u001b[47m\u001b[30m\u001b[47m`show_col_types = FALSE`\u001b[47m\u001b[30m\u001b[49m\u001b[39m to quiet this message.\n",
      "\n"
     ]
    },
    {
     "data": {
      "text/html": [
       "<table class=\"dataframe\">\n",
       "<caption>A tibble: 6 × 5</caption>\n",
       "<thead>\n",
       "\t<tr><th scope=col>sepal_length</th><th scope=col>sepal_width</th><th scope=col>petal_length</th><th scope=col>petal_width</th><th scope=col>class</th></tr>\n",
       "\t<tr><th scope=col>&lt;dbl&gt;</th><th scope=col>&lt;dbl&gt;</th><th scope=col>&lt;dbl&gt;</th><th scope=col>&lt;dbl&gt;</th><th scope=col>&lt;chr&gt;</th></tr>\n",
       "</thead>\n",
       "<tbody>\n",
       "\t<tr><td>5.1</td><td>3.5</td><td>1.4</td><td>0.2</td><td>Iris-setosa</td></tr>\n",
       "\t<tr><td>4.9</td><td>3.0</td><td>1.4</td><td>0.2</td><td>Iris-setosa</td></tr>\n",
       "\t<tr><td>4.7</td><td>3.2</td><td>1.3</td><td>0.2</td><td>Iris-setosa</td></tr>\n",
       "\t<tr><td>4.6</td><td>3.1</td><td>1.5</td><td>0.2</td><td>Iris-setosa</td></tr>\n",
       "\t<tr><td>5.0</td><td>3.6</td><td>1.4</td><td>0.2</td><td>Iris-setosa</td></tr>\n",
       "\t<tr><td>5.4</td><td>3.9</td><td>1.7</td><td>0.4</td><td>Iris-setosa</td></tr>\n",
       "</tbody>\n",
       "</table>\n"
      ],
      "text/latex": [
       "A tibble: 6 × 5\n",
       "\\begin{tabular}{lllll}\n",
       " sepal\\_length & sepal\\_width & petal\\_length & petal\\_width & class\\\\\n",
       " <dbl> & <dbl> & <dbl> & <dbl> & <chr>\\\\\n",
       "\\hline\n",
       "\t 5.1 & 3.5 & 1.4 & 0.2 & Iris-setosa\\\\\n",
       "\t 4.9 & 3.0 & 1.4 & 0.2 & Iris-setosa\\\\\n",
       "\t 4.7 & 3.2 & 1.3 & 0.2 & Iris-setosa\\\\\n",
       "\t 4.6 & 3.1 & 1.5 & 0.2 & Iris-setosa\\\\\n",
       "\t 5.0 & 3.6 & 1.4 & 0.2 & Iris-setosa\\\\\n",
       "\t 5.4 & 3.9 & 1.7 & 0.4 & Iris-setosa\\\\\n",
       "\\end{tabular}\n"
      ],
      "text/markdown": [
       "\n",
       "A tibble: 6 × 5\n",
       "\n",
       "| sepal_length &lt;dbl&gt; | sepal_width &lt;dbl&gt; | petal_length &lt;dbl&gt; | petal_width &lt;dbl&gt; | class &lt;chr&gt; |\n",
       "|---|---|---|---|---|\n",
       "| 5.1 | 3.5 | 1.4 | 0.2 | Iris-setosa |\n",
       "| 4.9 | 3.0 | 1.4 | 0.2 | Iris-setosa |\n",
       "| 4.7 | 3.2 | 1.3 | 0.2 | Iris-setosa |\n",
       "| 4.6 | 3.1 | 1.5 | 0.2 | Iris-setosa |\n",
       "| 5.0 | 3.6 | 1.4 | 0.2 | Iris-setosa |\n",
       "| 5.4 | 3.9 | 1.7 | 0.4 | Iris-setosa |\n",
       "\n"
      ],
      "text/plain": [
       "  sepal_length sepal_width petal_length petal_width class      \n",
       "1 5.1          3.5         1.4          0.2         Iris-setosa\n",
       "2 4.9          3.0         1.4          0.2         Iris-setosa\n",
       "3 4.7          3.2         1.3          0.2         Iris-setosa\n",
       "4 4.6          3.1         1.5          0.2         Iris-setosa\n",
       "5 5.0          3.6         1.4          0.2         Iris-setosa\n",
       "6 5.4          3.9         1.7          0.4         Iris-setosa"
      ]
     },
     "metadata": {},
     "output_type": "display_data"
    }
   ],
   "source": [
    "# Loading the Dataset\n",
    "url = \"https://raw.githubusercontent.com/fulleraltamiranoe/stat-201-project/main/iris.csv\"\n",
    "iris_data <- read_csv(url) \n",
    "head(iris_data)"
   ]
  },
  {
   "cell_type": "code",
   "execution_count": 3,
   "id": "d5ea429e-00fb-4b76-9629-f1ecae58e009",
   "metadata": {},
   "outputs": [
    {
     "data": {
      "text/html": [
       "<table class=\"dataframe\">\n",
       "<caption>A tibble: 6 × 1</caption>\n",
       "<thead>\n",
       "\t<tr><th scope=col>sepal_length</th></tr>\n",
       "\t<tr><th scope=col>&lt;dbl&gt;</th></tr>\n",
       "</thead>\n",
       "<tbody>\n",
       "\t<tr><td>5.1</td></tr>\n",
       "\t<tr><td>4.9</td></tr>\n",
       "\t<tr><td>4.7</td></tr>\n",
       "\t<tr><td>4.6</td></tr>\n",
       "\t<tr><td>5.0</td></tr>\n",
       "\t<tr><td>5.4</td></tr>\n",
       "</tbody>\n",
       "</table>\n"
      ],
      "text/latex": [
       "A tibble: 6 × 1\n",
       "\\begin{tabular}{l}\n",
       " sepal\\_length\\\\\n",
       " <dbl>\\\\\n",
       "\\hline\n",
       "\t 5.1\\\\\n",
       "\t 4.9\\\\\n",
       "\t 4.7\\\\\n",
       "\t 4.6\\\\\n",
       "\t 5.0\\\\\n",
       "\t 5.4\\\\\n",
       "\\end{tabular}\n"
      ],
      "text/markdown": [
       "\n",
       "A tibble: 6 × 1\n",
       "\n",
       "| sepal_length &lt;dbl&gt; |\n",
       "|---|\n",
       "| 5.1 |\n",
       "| 4.9 |\n",
       "| 4.7 |\n",
       "| 4.6 |\n",
       "| 5.0 |\n",
       "| 5.4 |\n",
       "\n"
      ],
      "text/plain": [
       "  sepal_length\n",
       "1 5.1         \n",
       "2 4.9         \n",
       "3 4.7         \n",
       "4 4.6         \n",
       "5 5.0         \n",
       "6 5.4         "
      ]
     },
     "metadata": {},
     "output_type": "display_data"
    },
    {
     "data": {
      "text/html": [
       "<table class=\"dataframe\">\n",
       "<caption>A tibble: 6 × 1</caption>\n",
       "<thead>\n",
       "\t<tr><th scope=col>sepal_length</th></tr>\n",
       "\t<tr><th scope=col>&lt;dbl&gt;</th></tr>\n",
       "</thead>\n",
       "<tbody>\n",
       "\t<tr><td>7.0</td></tr>\n",
       "\t<tr><td>6.4</td></tr>\n",
       "\t<tr><td>6.9</td></tr>\n",
       "\t<tr><td>5.5</td></tr>\n",
       "\t<tr><td>6.5</td></tr>\n",
       "\t<tr><td>5.7</td></tr>\n",
       "</tbody>\n",
       "</table>\n"
      ],
      "text/latex": [
       "A tibble: 6 × 1\n",
       "\\begin{tabular}{l}\n",
       " sepal\\_length\\\\\n",
       " <dbl>\\\\\n",
       "\\hline\n",
       "\t 7.0\\\\\n",
       "\t 6.4\\\\\n",
       "\t 6.9\\\\\n",
       "\t 5.5\\\\\n",
       "\t 6.5\\\\\n",
       "\t 5.7\\\\\n",
       "\\end{tabular}\n"
      ],
      "text/markdown": [
       "\n",
       "A tibble: 6 × 1\n",
       "\n",
       "| sepal_length &lt;dbl&gt; |\n",
       "|---|\n",
       "| 7.0 |\n",
       "| 6.4 |\n",
       "| 6.9 |\n",
       "| 5.5 |\n",
       "| 6.5 |\n",
       "| 5.7 |\n",
       "\n"
      ],
      "text/plain": [
       "  sepal_length\n",
       "1 7.0         \n",
       "2 6.4         \n",
       "3 6.9         \n",
       "4 5.5         \n",
       "5 6.5         \n",
       "6 5.7         "
      ]
     },
     "metadata": {},
     "output_type": "display_data"
    },
    {
     "data": {
      "text/html": [
       "<table class=\"dataframe\">\n",
       "<caption>A tibble: 1 × 2</caption>\n",
       "<thead>\n",
       "\t<tr><th scope=col>setosa_mean</th><th scope=col>setosa_sd</th></tr>\n",
       "\t<tr><th scope=col>&lt;dbl&gt;</th><th scope=col>&lt;dbl&gt;</th></tr>\n",
       "</thead>\n",
       "<tbody>\n",
       "\t<tr><td>5.006</td><td>0.3524897</td></tr>\n",
       "</tbody>\n",
       "</table>\n"
      ],
      "text/latex": [
       "A tibble: 1 × 2\n",
       "\\begin{tabular}{ll}\n",
       " setosa\\_mean & setosa\\_sd\\\\\n",
       " <dbl> & <dbl>\\\\\n",
       "\\hline\n",
       "\t 5.006 & 0.3524897\\\\\n",
       "\\end{tabular}\n"
      ],
      "text/markdown": [
       "\n",
       "A tibble: 1 × 2\n",
       "\n",
       "| setosa_mean &lt;dbl&gt; | setosa_sd &lt;dbl&gt; |\n",
       "|---|---|\n",
       "| 5.006 | 0.3524897 |\n",
       "\n"
      ],
      "text/plain": [
       "  setosa_mean setosa_sd\n",
       "1 5.006       0.3524897"
      ]
     },
     "metadata": {},
     "output_type": "display_data"
    },
    {
     "data": {
      "text/html": [
       "<table class=\"dataframe\">\n",
       "<caption>A tibble: 1 × 2</caption>\n",
       "<thead>\n",
       "\t<tr><th scope=col>versicolor_mean</th><th scope=col>versicolor_sd</th></tr>\n",
       "\t<tr><th scope=col>&lt;dbl&gt;</th><th scope=col>&lt;dbl&gt;</th></tr>\n",
       "</thead>\n",
       "<tbody>\n",
       "\t<tr><td>5.936</td><td>0.5161711</td></tr>\n",
       "</tbody>\n",
       "</table>\n"
      ],
      "text/latex": [
       "A tibble: 1 × 2\n",
       "\\begin{tabular}{ll}\n",
       " versicolor\\_mean & versicolor\\_sd\\\\\n",
       " <dbl> & <dbl>\\\\\n",
       "\\hline\n",
       "\t 5.936 & 0.5161711\\\\\n",
       "\\end{tabular}\n"
      ],
      "text/markdown": [
       "\n",
       "A tibble: 1 × 2\n",
       "\n",
       "| versicolor_mean &lt;dbl&gt; | versicolor_sd &lt;dbl&gt; |\n",
       "|---|---|\n",
       "| 5.936 | 0.5161711 |\n",
       "\n"
      ],
      "text/plain": [
       "  versicolor_mean versicolor_sd\n",
       "1 5.936           0.5161711    "
      ]
     },
     "metadata": {},
     "output_type": "display_data"
    }
   ],
   "source": [
    "# Set seed to ensure reproducible randomness\n",
    "set.seed(1001)\n",
    "\n",
    "# Treat class as factor and filter for class of interest (Iris-setosa)\n",
    "iris_setosa_sample <- iris_data %>%\n",
    "    mutate(class = as_factor(class)) %>%\n",
    "    filter(class == 'Iris-setosa') %>%\n",
    "    select(sepal_length)\n",
    "head(iris_setosa_sample) # sample size = 50 each\n",
    "\n",
    "# Treat class as factor and filter for class of interest (Iris-versicolor)\n",
    "iris_versicolor_sample <- iris_data %>%\n",
    "    mutate(class = as_factor(class)) %>%\n",
    "    filter(class == 'Iris-versicolor') %>%\n",
    "    select(sepal_length)\n",
    "head(iris_versicolor_sample) # sample size = 50\n",
    "\n",
    "# Point parameter of interest (sepal length mean)\n",
    "setosa_mean <- iris_setosa_sample %>%\n",
    "    summarize(setosa_mean = mean(sepal_length), setosa_sd = sd(sepal_length))\n",
    "setosa_mean\n",
    "\n",
    "# Point parameter of interest (sepal length mean)\n",
    "versicolor_mean <- iris_versicolor_sample %>%\n",
    "    summarize(versicolor_mean = mean(sepal_length), versicolor_sd = sd(sepal_length))\n",
    "versicolor_mean"
   ]
  },
  {
   "cell_type": "code",
   "execution_count": 4,
   "id": "a52eaf0f-2d04-4119-abb8-0c07022a1414",
   "metadata": {},
   "outputs": [
    {
     "data": {
      "image/png": "[encoded data removed]",
      "text/plain": [
       "plot without title"
      ]
     },
     "metadata": {
      "image/png": {
       "height": 480,
       "width": 600
      }
     },
     "output_type": "display_data"
    },
    {
     "data": {
      "image/png": "[encoded data removed]",
      "text/plain": [
       "plot without title"
      ]
     },
     "metadata": {
      "image/png": {
       "height": 480,
       "width": 600
      }
     },
     "output_type": "display_data"
    }
   ],
   "source": [
    "# Visualize Sample Distribution\n",
    "options(repr.plot.width = 10, repr.plot.height = 8)\n",
    "setosa_sample_dist <- iris_setosa_sample %>%\n",
    "    ggplot(aes(x = sepal_length)) +\n",
    "    geom_histogram(binwidth = 0.15, colour = 'white') +\n",
    "    geom_vline(aes(xintercept = setosa_mean$setosa_mean), color = 'red') +\n",
    "    labs(x = 'Sepal Length [cm]', y = 'Count') +\n",
    "    ggtitle('Sample Distribution of the Sepal Length of a sample of Iris Setosa (n = 50)') +\n",
    "    theme(text = element_text(size = 14), plot.title = element_text(hjust = 0.5))\n",
    "setosa_sample_dist\n",
    "\n",
    "# Visualize Sample Distribution\n",
    "options(repr.plot.width = 10, repr.plot.height = 8)\n",
    "versicolor_sample_dist <- iris_versicolor_sample %>%\n",
    "    ggplot(aes(x = sepal_length)) +\n",
    "    geom_histogram(binwidth = 0.15, colour = 'white') +\n",
    "    geom_vline(aes(xintercept = versicolor_mean$versicolor_mean), color = 'red') +\n",
    "    labs(x = 'Sepal Length [cm]', y = 'Count') +\n",
    "    ggtitle('Sample Distribution of the Sepal Length of a sample of Iris Versicolor (n = 50)') +\n",
    "    theme(text = element_text(size = 14), plot.title = element_text(hjust = 0.5))\n",
    "versicolor_sample_dist"
   ]
  },
  {
   "cell_type": "markdown",
   "id": "cc4bbddf-a7ee-4e01-af99-ee9a4e3edfc9",
   "metadata": {},
   "source": [
    "<h2>\n",
    "Methods\n",
    "</h2>\n",
    "<p>\n",
    "In order to test our inferential question, we want to formulate a null hypothesis and an alternate hypothesis. Our null hypothesis states that the mean sepal length of Iris Setosa minus that of Iris Versicolor = 0, our alternate hypothesis then states that the mean sepal length of Iris Setosa minus that of Iris Versicolor > 0. To analyze if the null hypothesis is true, we would first look at the observed statistics, where we can calculate the mean sepal length of Iris Setosa minus that of Iris Versicolor. Further, we would generate samples from the null distribution and then calculate the results of the hypothesis test. Both steps can be done using the infer package in R. We can then plot the results of the hypothesis test and calculate a respective p-value. With this p-value, we would then be able to make a conclusion on whether we have enough evidence to reject the null hypothesis. Moreover, as we analyze the implications of the p-value, comments on type I and type II errors can be made.\n",
    "</p>"
   ]
  },
  {
   "cell_type": "markdown",
   "id": "e73a8b32-f976-4df0-8610-85fcfa589fc8",
   "metadata": {},
   "source": [
    "<h2>\n",
    "References\n",
    "</h2>\n",
    "    \n",
    "1. Fisher, R. A. *The Use of Multiple Measurements in Taxonomic Problems*. Annals of Human Genetics, 1936\n",
    "2. Ismay, Chester, and Kim, Albert Y. *Statistical Inference via Data Science: A ModernDive into R and the Tidyverse*.  ModernDive, 2022"
   ]
  }
 ],
 "metadata": {
  "kernelspec": {
   "display_name": "R",
   "language": "R",
   "name": "ir"
  },
  "language_info": {
   "codemirror_mode": "r",
   "file_extension": ".r",
   "mimetype": "text/x-r-source",
   "name": "R",
   "pygments_lexer": "r",
   "version": "4.1.2"
  }
 },
 "nbformat": 4,
 "nbformat_minor": 5
}
